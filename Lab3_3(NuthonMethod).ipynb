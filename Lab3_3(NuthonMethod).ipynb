def f1(x,y): 
  return x**2+y**2-1 
def f2(x,y): 
  return x-y**3-0.5 
def f1x(x): 
  return 2*x 
def f1y(y): 
  return 2*y 
def f2x(x): 
  return 1 
def f2y(y): 
  return -3*y**2 
y0=0.6 
y1=0.7 
x0=0.7 
x1=0.8 
n=0 
def j(x,y): 
  return f1x(x)*f2y(y)-f2x(x)*f1y(y) 
def jx(x,y): 
  return f1(x,y)*f2y(y)-f2(x,y)*f1y(y) 
def jy(x,y): 
  return f1x(x)*f2(x,y)-f2x(x)*f1(x,y) 
eps=0.001 
while abs(f1(x0,y0)-f2(x0,y0))>eps: 
  x0=x1-(abs(jx(x1,y1))/abs(j(x1,y1))) 
  y0=y1-(abs(jy(x1,y1))/abs(j(x1,y1))) 
  x1=x0 
  y1=y0 
  n=n+1 
print ('x=',x0,' y=',y0) 
print(n)
